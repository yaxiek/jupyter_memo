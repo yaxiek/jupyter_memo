{
  "nbformat": 4,
  "nbformat_minor": 0,
  "metadata": {
    "colab": {
      "name": "1st_notebook.ipynb",
      "version": "0.3.2",
      "provenance": []
    },
    "kernelspec": {
      "display_name": "Python 3",
      "language": "python",
      "name": "python3"
    }
  },
  "cells": [
    {
      "metadata": {
        "id": "R40zew2pNyvs",
        "colab_type": "code",
        "colab": {}
      },
      "cell_type": "code",
      "source": [
        "import numpy as np\n",
        "import matplotlib.pyplot as plt"
      ],
      "execution_count": 0,
      "outputs": []
    },
    {
      "metadata": {
        "id": "szjnxtAgNywA",
        "colab_type": "code",
        "colab": {},
        "outputId": "b43650e3-8716-49c2-8fff-2cd9e2250f92"
      },
      "cell_type": "code",
      "source": [
        "x = np.linspace(-4,4,9)\n",
        "x"
      ],
      "execution_count": 0,
      "outputs": [
        {
          "output_type": "execute_result",
          "data": {
            "text/plain": [
              "array([-4., -3., -2., -1.,  0.,  1.,  2.,  3.,  4.])"
            ]
          },
          "metadata": {
            "tags": []
          },
          "execution_count": 54
        }
      ]
    },
    {
      "metadata": {
        "id": "YAMFJfV3Nywa",
        "colab_type": "code",
        "colab": {}
      },
      "cell_type": "code",
      "source": [
        "a = 1\n",
        "b = 2\n",
        "c = -2"
      ],
      "execution_count": 0,
      "outputs": []
    },
    {
      "metadata": {
        "id": "M_PDgId0Nywk",
        "colab_type": "code",
        "colab": {},
        "outputId": "8c781e9c-524a-499e-e49d-538bc26f1095"
      },
      "cell_type": "code",
      "source": [
        "y = a*x*x*x +b*x*x +c\n",
        "y"
      ],
      "execution_count": 0,
      "outputs": [
        {
          "output_type": "execute_result",
          "data": {
            "text/plain": [
              "array([-34., -11.,  -2.,  -1.,  -2.,   1.,  14.,  43.,  94.])"
            ]
          },
          "metadata": {
            "tags": []
          },
          "execution_count": 56
        }
      ]
    },
    {
      "metadata": {
        "id": "y5nOmSRzNyws",
        "colab_type": "text"
      },
      "cell_type": "markdown",
      "source": [
        "<p>$ y = ax^3 + bx^2 + c$</p>\n",
        "<p>を描画するよ</p>"
      ]
    },
    {
      "metadata": {
        "scrolled": true,
        "id": "hFGZdjKJNywu",
        "colab_type": "code",
        "colab": {},
        "outputId": "bfcf5444-8b01-4c83-cd90-fdabf469709d"
      },
      "cell_type": "code",
      "source": [
        "plt.plot(x,y)"
      ],
      "execution_count": 0,
      "outputs": [
        {
          "output_type": "execute_result",
          "data": {
            "text/plain": [
              "[<matplotlib.lines.Line2D at 0x13d0851bfd0>]"
            ]
          },
          "metadata": {
            "tags": []
          },
          "execution_count": 57
        },
        {
          "output_type": "display_data",
          "data": {
            "image/png": "[encoded data removed]",
            "text/plain": [
              "<Figure size 432x288 with 1 Axes>"
            ]
          },
          "metadata": {
            "tags": []
          }
        }
      ]
    }
  ]
}